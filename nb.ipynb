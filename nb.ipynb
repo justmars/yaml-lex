{
 "cells": [
  {
   "cell_type": "code",
   "execution_count": 1,
   "id": "ec1fe858",
   "metadata": {},
   "outputs": [],
   "source": [
    "from pathlib import Path\n",
    "\n",
    "f = Path(\"../corpus-statutes/ra/12775/2025-09-07/1.yml\")\n",
    "if not f.exists():\n",
    "    raise FileNotFoundError()"
   ]
  },
  {
   "cell_type": "code",
   "execution_count": 2,
   "id": "2c45a90e",
   "metadata": {},
   "outputs": [
    {
     "data": {
      "text/html": [
       "<pre style=\"white-space:pre;overflow-x:auto;line-height:normal;font-family:Menlo,'DejaVu Sans Mono',consolas,'Courier New',monospace\"><span style=\"color: #008000; text-decoration-color: #008000\">Formatted:</span> ..<span style=\"color: #800080; text-decoration-color: #800080\">/corpus-statutes/ra/12775/2025-09-07/</span><span style=\"color: #ff00ff; text-decoration-color: #ff00ff\">1.yml</span>\n",
       "</pre>\n"
      ],
      "text/plain": [
       "\u001b[32mFormatted:\u001b[0m ..\u001b[35m/corpus-statutes/ra/12775/2025-09-07/\u001b[0m\u001b[95m1.yml\u001b[0m\n"
      ]
     },
     "metadata": {},
     "output_type": "display_data"
    }
   ],
   "source": [
    "from src.format import format_yaml_file\n",
    "\n",
    "input_path = f\n",
    "output_path = Path(\"test.yml\")\n",
    "format_yaml_file(input_path, inplace=True)"
   ]
  }
 ],
 "metadata": {
  "kernelspec": {
   "display_name": ".venv",
   "language": "python",
   "name": "python3"
  },
  "language_info": {
   "codemirror_mode": {
    "name": "ipython",
    "version": 3
   },
   "file_extension": ".py",
   "mimetype": "text/x-python",
   "name": "python",
   "nbconvert_exporter": "python",
   "pygments_lexer": "ipython3",
   "version": "3.13.3"
  }
 },
 "nbformat": 4,
 "nbformat_minor": 5
}
